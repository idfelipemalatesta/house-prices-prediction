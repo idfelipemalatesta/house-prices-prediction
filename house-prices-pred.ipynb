{
 "cells": [
  {
   "cell_type": "code",
   "execution_count": 1,
   "metadata": {},
   "outputs": [],
   "source": [
    "import pandas as pd"
   ]
  },
  {
   "cell_type": "code",
   "execution_count": 2,
   "metadata": {},
   "outputs": [],
   "source": [
    "treino = pd.read_csv(\"train.csv\")\n",
    "teste = pd.read_csv(\"test.csv\")"
   ]
  },
  {
   "cell_type": "code",
   "execution_count": null,
   "metadata": {},
   "outputs": [],
   "source": [
    "treino.info()"
   ]
  },
  {
   "cell_type": "code",
   "execution_count": 3,
   "metadata": {},
   "outputs": [],
   "source": [
    "# Removendo os IDs\n",
    "treino.drop(\"Id\", axis=1, inplace=True)\n",
    "id_submit = teste[\"Id\"]\n",
    "teste.drop(\"Id\", axis=1, inplace=True)"
   ]
  },
  {
   "cell_type": "code",
   "execution_count": 4,
   "metadata": {},
   "outputs": [
    {
     "data": {
      "text/plain": [
       "PoolQC          1453\n",
       "MiscFeature     1406\n",
       "Alley           1369\n",
       "Fence           1179\n",
       "FireplaceQu      690\n",
       "LotFrontage      259\n",
       "GarageYrBlt       81\n",
       "GarageCond        81\n",
       "GarageType        81\n",
       "GarageFinish      81\n",
       "GarageQual        81\n",
       "BsmtExposure      38\n",
       "BsmtFinType2      38\n",
       "BsmtCond          37\n",
       "BsmtQual          37\n",
       "dtype: int64"
      ]
     },
     "execution_count": 4,
     "metadata": {},
     "output_type": "execute_result"
    }
   ],
   "source": [
    "treino.isnull().sum().sort_values(ascending=False)[:15]"
   ]
  },
  {
   "cell_type": "code",
   "execution_count": 5,
   "metadata": {},
   "outputs": [],
   "source": [
    "# Se há variável apresentar mais de 30% de dados ausentes será removida do dataset\n",
    "# 30 % de 1460 -> 438\n",
    "treino.drop([\"PoolQC\", \"MiscFeature\", \"Alley\", \"Fence\", \"FireplaceQu\"], axis=1, inplace=True)\n",
    "teste.drop([\"PoolQC\", \"MiscFeature\", \"Alley\", \"Fence\", \"FireplaceQu\"], axis=1, inplace=True)"
   ]
  },
  {
   "cell_type": "code",
   "execution_count": 6,
   "metadata": {},
   "outputs": [
    {
     "name": "stdout",
     "output_type": "stream",
     "text": [
      "['MSZoning', 'Street', 'LotShape', 'LandContour', 'Utilities', 'LotConfig', 'LandSlope', 'Neighborhood', 'Condition1', 'Condition2', 'BldgType', 'HouseStyle', 'RoofStyle', 'RoofMatl', 'Exterior1st', 'Exterior2nd', 'MasVnrType', 'ExterQual', 'ExterCond', 'Foundation', 'BsmtQual', 'BsmtCond', 'BsmtExposure', 'BsmtFinType1', 'BsmtFinType2', 'Heating', 'HeatingQC', 'CentralAir', 'Electrical', 'KitchenQual', 'Functional', 'GarageType', 'GarageFinish', 'GarageQual', 'GarageCond', 'PavedDrive', 'SaleType', 'SaleCondition']\n"
     ]
    }
   ],
   "source": [
    "# Extraindo as colunas categoricas\n",
    "cat_cols = [coluna for coluna in treino.columns if treino[coluna].dtype == \"object\"]\n",
    "print(cat_cols)"
   ]
  },
  {
   "cell_type": "code",
   "execution_count": 7,
   "metadata": {},
   "outputs": [
    {
     "name": "stdout",
     "output_type": "stream",
     "text": [
      "['MSSubClass', 'LotFrontage', 'LotArea', 'OverallQual', 'OverallCond', 'YearBuilt', 'YearRemodAdd', 'MasVnrArea', 'BsmtFinSF1', 'BsmtFinSF2', 'BsmtUnfSF', 'TotalBsmtSF', '1stFlrSF', '2ndFlrSF', 'LowQualFinSF', 'GrLivArea', 'BsmtFullBath', 'BsmtHalfBath', 'FullBath', 'HalfBath', 'BedroomAbvGr', 'KitchenAbvGr', 'TotRmsAbvGrd', 'Fireplaces', 'GarageYrBlt', 'GarageCars', 'GarageArea', 'WoodDeckSF', 'OpenPorchSF', 'EnclosedPorch', '3SsnPorch', 'ScreenPorch', 'PoolArea', 'MiscVal', 'MoSold', 'YrSold', 'SalePrice']\n"
     ]
    }
   ],
   "source": [
    "# Extraindo as colunas numéricas\n",
    "num_cols = [coluna for coluna in treino.columns if treino[coluna].dtype != \"object\"]\n",
    "print(num_cols)"
   ]
  },
  {
   "cell_type": "code",
   "execution_count": 10,
   "metadata": {},
   "outputs": [
    {
     "data": {
      "text/plain": [
       "MSZoning        0\n",
       "Electrical      0\n",
       "BsmtCond        0\n",
       "BsmtExposure    0\n",
       "BsmtFinType1    0\n",
       "BsmtFinType2    0\n",
       "Heating         0\n",
       "HeatingQC       0\n",
       "CentralAir      0\n",
       "KitchenQual     0\n",
       "Street          0\n",
       "Functional      0\n",
       "dtype: int64"
      ]
     },
     "execution_count": 10,
     "metadata": {},
     "output_type": "execute_result"
    }
   ],
   "source": [
    "treino[cat_cols].isnull().sum().sort_values(ascending=False)[:12]"
   ]
  },
  {
   "cell_type": "code",
   "execution_count": 9,
   "metadata": {},
   "outputs": [],
   "source": [
    "# Aplicando a moda nos valores ausentes\n",
    "\n",
    "# Treino\n",
    "treino[\"GarageCond\"].fillna(treino[\"GarageCond\"].mode()[0], inplace=True)\n",
    "treino[\"GarageQual\"].fillna(treino[\"GarageQual\"].mode()[0], inplace=True)\n",
    "treino[\"GarageFinish\"].fillna(treino[\"GarageFinish\"].mode()[0], inplace=True)\n",
    "treino[\"GarageType\"].fillna(treino[\"GarageType\"].mode()[0], inplace=True)\n",
    "treino[\"BsmtExposure\"].fillna(treino[\"BsmtExposure\"].mode()[0], inplace=True)\n",
    "treino[\"BsmtFinType2\"].fillna(treino[\"BsmtFinType2\"].mode()[0], inplace=True)\n",
    "treino[\"BsmtCond\"].fillna(treino[\"BsmtCond\"].mode()[0], inplace=True)\n",
    "treino[\"BsmtFinType1\"].fillna(treino[\"BsmtFinType1\"].mode()[0], inplace=True)\n",
    "treino[\"BsmtQual\"].fillna(treino[\"BsmtQual\"].mode()[0], inplace=True)\n",
    "treino[\"MasVnrType\"].fillna(treino[\"MasVnrType\"].mode()[0], inplace=True)\n",
    "treino[\"Electrical\"].fillna(treino[\"Electrical\"].mode()[0], inplace=True)\n",
    "\n",
    "# Teste\n",
    "teste[\"GarageCond\"].fillna(teste[\"GarageCond\"].mode()[0], inplace=True)\n",
    "teste[\"GarageQual\"].fillna(teste[\"GarageQual\"].mode()[0], inplace=True)\n",
    "teste[\"GarageFinish\"].fillna(teste[\"GarageFinish\"].mode()[0], inplace=True)\n",
    "teste[\"GarageType\"].fillna(teste[\"GarageType\"].mode()[0], inplace=True)\n",
    "teste[\"BsmtExposure\"].fillna(teste[\"BsmtExposure\"].mode()[0], inplace=True)\n",
    "teste[\"BsmtFinType2\"].fillna(teste[\"BsmtFinType2\"].mode()[0], inplace=True)\n",
    "teste[\"BsmtCond\"].fillna(teste[\"BsmtCond\"].mode()[0], inplace=True)\n",
    "teste[\"BsmtFinType1\"].fillna(teste[\"BsmtFinType1\"].mode()[0], inplace=True)\n",
    "teste[\"BsmtQual\"].fillna(teste[\"BsmtQual\"].mode()[0], inplace=True)\n",
    "teste[\"MasVnrType\"].fillna(teste[\"MasVnrType\"].mode()[0], inplace=True)\n",
    "teste[\"Electrical\"].fillna(teste[\"Electrical\"].mode()[0], inplace=True)"
   ]
  },
  {
   "cell_type": "code",
   "execution_count": 13,
   "metadata": {},
   "outputs": [
    {
     "data": {
      "text/plain": [
       "MSSubClass      0\n",
       "HalfBath        0\n",
       "KitchenAbvGr    0\n",
       "TotRmsAbvGrd    0\n",
       "dtype: int64"
      ]
     },
     "execution_count": 13,
     "metadata": {},
     "output_type": "execute_result"
    }
   ],
   "source": [
    "treino[num_cols].isnull().sum().sort_values(ascending=False)[:4]"
   ]
  },
  {
   "cell_type": "code",
   "execution_count": 12,
   "metadata": {},
   "outputs": [],
   "source": [
    "# Aplicando a mediana nos valores ausentes\n",
    "\n",
    "# Treino\n",
    "treino[\"LotFrontage\"].fillna(treino[\"LotFrontage\"].median(), inplace=True)\n",
    "treino[\"GarageYrBlt\"].fillna(treino[\"GarageYrBlt\"].median(), inplace=True)\n",
    "treino[\"MasVnrArea\"].fillna(treino[\"MasVnrArea\"].median(), inplace=True)\n",
    "\n",
    "# Teste\n",
    "teste[\"LotFrontage\"].fillna(teste[\"LotFrontage\"].median(), inplace=True)\n",
    "teste[\"GarageYrBlt\"].fillna(teste[\"GarageYrBlt\"].median(), inplace=True)\n",
    "teste[\"MasVnrArea\"].fillna(teste[\"MasVnrArea\"].median(), inplace=True)"
   ]
  }
 ],
 "metadata": {
  "kernelspec": {
   "display_name": "Python 3.10.4 ('projeto-santander')",
   "language": "python",
   "name": "python3"
  },
  "language_info": {
   "codemirror_mode": {
    "name": "ipython",
    "version": 3
   },
   "file_extension": ".py",
   "mimetype": "text/x-python",
   "name": "python",
   "nbconvert_exporter": "python",
   "pygments_lexer": "ipython3",
   "version": "3.10.4"
  },
  "orig_nbformat": 4,
  "vscode": {
   "interpreter": {
    "hash": "dac9a992b1ef6f133ebea7a3bc9d0fb006d5ef59901f9bd2219b33a36c3fbd1d"
   }
  }
 },
 "nbformat": 4,
 "nbformat_minor": 2
}
